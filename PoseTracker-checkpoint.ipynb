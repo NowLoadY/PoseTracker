{
 "cells": [
  {
   "cell_type": "code",
   "execution_count": 4,
   "id": "80027e25",
   "metadata": {},
   "outputs": [
    {
     "name": "stdout",
     "output_type": "stream",
     "text": [
      "Requirement already satisfied: mediapipe in c:\\users\\anny\\anaconda3\\lib\\site-packages (0.8.9.1)\n",
      "Requirement already satisfied: opencv-python in c:\\users\\anny\\anaconda3\\lib\\site-packages (4.5.5.62)\n",
      "Requirement already satisfied: protobuf>=3.11.4 in c:\\users\\anny\\anaconda3\\lib\\site-packages (from mediapipe) (3.19.1)\n",
      "Requirement already satisfied: absl-py in c:\\users\\anny\\anaconda3\\lib\\site-packages (from mediapipe) (1.0.0)\n",
      "Requirement already satisfied: opencv-contrib-python in c:\\users\\anny\\anaconda3\\lib\\site-packages (from mediapipe) (4.5.5.62)\n",
      "Requirement already satisfied: numpy in c:\\users\\anny\\anaconda3\\lib\\site-packages (from mediapipe) (1.20.1)\n",
      "Requirement already satisfied: attrs>=19.1.0 in c:\\users\\anny\\anaconda3\\lib\\site-packages (from mediapipe) (20.3.0)\n",
      "Requirement already satisfied: matplotlib in c:\\users\\anny\\anaconda3\\lib\\site-packages (from mediapipe) (3.3.4)\n",
      "Requirement already satisfied: six in c:\\users\\anny\\anaconda3\\lib\\site-packages (from absl-py->mediapipe) (1.15.0)\n",
      "Requirement already satisfied: python-dateutil>=2.1 in c:\\users\\anny\\anaconda3\\lib\\site-packages (from matplotlib->mediapipe) (2.8.1)\n",
      "Requirement already satisfied: pyparsing!=2.0.4,!=2.1.2,!=2.1.6,>=2.0.3 in c:\\users\\anny\\anaconda3\\lib\\site-packages (from matplotlib->mediapipe) (2.4.7)\n",
      "Requirement already satisfied: pillow>=6.2.0 in c:\\users\\anny\\anaconda3\\lib\\site-packages (from matplotlib->mediapipe) (8.2.0)\n",
      "Requirement already satisfied: kiwisolver>=1.0.1 in c:\\users\\anny\\anaconda3\\lib\\site-packages (from matplotlib->mediapipe) (1.3.1)\n",
      "Requirement already satisfied: cycler>=0.10 in c:\\users\\anny\\anaconda3\\lib\\site-packages (from matplotlib->mediapipe) (0.10.0)\n"
     ]
    }
   ],
   "source": [
    "!pip install mediapipe opencv-python"
   ]
  },
  {
   "cell_type": "code",
   "execution_count": 6,
   "id": "e6615a71",
   "metadata": {},
   "outputs": [],
   "source": [
    "import cv2\n",
    "import mediapipe as mp\n",
    "import numpy as np\n",
    "mp_drawing = mp.solutions.drawing_utils\n",
    "mp_pose = mp.solutions.pose"
   ]
  },
  {
   "cell_type": "code",
   "execution_count": 9,
   "id": "40055920",
   "metadata": {},
   "outputs": [],
   "source": [
    "#gets video feed\n",
    "cap = cv2.VideoCapture(0) #0: video device\n",
    "while cap.isOpened():\n",
    "    ret, frame = cap.read()\n",
    "    cv2.imshow('Mediapipe Feed', frame) #getting feed\n",
    "    \n",
    "    if cv2.waitKey(10) & 0xFF == ord('q'): #q is hotkey to break\n",
    "        break\n",
    "cap.release()\n",
    "cv2.destroyAllWindows()"
   ]
  },
  {
   "cell_type": "markdown",
   "id": "e3204151",
   "metadata": {},
   "source": [
    "Pose detection"
   ]
  },
  {
   "cell_type": "code",
   "execution_count": 17,
   "id": "7208b134",
   "metadata": {},
   "outputs": [],
   "source": [
    "cap = cv2.VideoCapture(0) \n",
    "#setup mediapipe instance\n",
    "#confidence: accuracy of detections, high = more accurate, but might detect less\n",
    "with mp_pose.Pose(min_detection_confidence = 0.5, min_tracking_confidence=0.5) as pose:\n",
    "        while cap.isOpened():\n",
    "            ret, frame = cap.read()\n",
    "\n",
    "            #recolouring image (in rgb) to media pipe\n",
    "            image = cv2.cvtColor(frame, cv2.COLOR_BGR2RGB)\n",
    "            image.flags.writeable = False #save to memory\n",
    "\n",
    "            #make detection (access previous pose model)\n",
    "            results = pose.process(image)\n",
    "\n",
    "            #recolour to BGR for open cv\n",
    "            image.flags.writeable = True\n",
    "            image = cv2.cvtColor(image, cv2.COLOR_RGB2BGR)\n",
    "\n",
    "            #render detections (use previous imported drawing utilities)\n",
    "            #different landmarks on the body \n",
    "            #parse through landmark then connection drawing spec\n",
    "            mp_drawing.draw_landmarks(image, results.pose_landmarks, mp_pose.POSE_CONNECTIONS,\n",
    "                                     mp_drawing.DrawingSpec(color = (245, 117,66), thickness = 2, circle_radius = 2),\n",
    "                                     mp_drawing.DrawingSpec(color=(245, 66,230), thickness=2, circle_radius=2))\n",
    "\n",
    "            cv2.imshow('Mediapipe Feed', image) #drawing it on\n",
    "\n",
    "            if cv2.waitKey(10) & 0xFF == ord('q'): #q is hotkey to break\n",
    "                break\n",
    "        cap.release()\n",
    "        cv2.destroyAllWindows()"
   ]
  },
  {
   "cell_type": "markdown",
   "id": "0588878e",
   "metadata": {},
   "source": [
    "extract joint coord\n"
   ]
  },
  {
   "cell_type": "code",
   "execution_count": 22,
   "id": "780ba293",
   "metadata": {},
   "outputs": [],
   "source": [
    "cap = cv2.VideoCapture(0) \n",
    "#setup mediapipe instance\n",
    "#confidence: accuracy of detections, high = more accurate, but might detect less\n",
    "with mp_pose.Pose(min_detection_confidence = 0.5, min_tracking_confidence=0.5) as pose:\n",
    "        while cap.isOpened():\n",
    "            ret, frame = cap.read()\n",
    "\n",
    "            #recolouring image (in rgb) to media pipe\n",
    "            image = cv2.cvtColor(frame, cv2.COLOR_BGR2RGB)\n",
    "            image.flags.writeable = False #save to memory\n",
    "\n",
    "            #make detection (access previous pose model)\n",
    "            results = pose.process(image)\n",
    "\n",
    "            #recolour to BGR for open cv\n",
    "            image.flags.writeable = True\n",
    "            image = cv2.cvtColor(image, cv2.COLOR_RGB2BGR)\n",
    "\n",
    "            #extract landmarks\n",
    "            try: #in case the landmark isnt visible\n",
    "                landmarks = results.pose_landmarks.landmark\n",
    "                #print(landmarks)\n",
    "            except:\n",
    "                pass\n",
    "            \n",
    "            #render detections (use previous imported drawing utilities)\n",
    "            #different landmarks on the body \n",
    "            #parse through landmark then connection drawing spec\n",
    "            mp_drawing.draw_landmarks(image, results.pose_landmarks, mp_pose.POSE_CONNECTIONS,\n",
    "                                     mp_drawing.DrawingSpec(color = (245, 117,66), thickness = 2, circle_radius = 2),\n",
    "                                     mp_drawing.DrawingSpec(color=(245, 66,230), thickness=2, circle_radius=2))\n",
    "\n",
    "            cv2.imshow('Mediapipe Feed', image) #drawing it on\n",
    "\n",
    "            if cv2.waitKey(10) & 0xFF == ord('q'): #q is hotkey to break\n",
    "                break\n",
    "        cap.release()\n",
    "        cv2.destroyAllWindows()"
   ]
  },
  {
   "cell_type": "code",
   "execution_count": 20,
   "id": "68f5ab4a",
   "metadata": {},
   "outputs": [
    {
     "name": "stdout",
     "output_type": "stream",
     "text": [
      "PoseLandmark.NOSE\n",
      "PoseLandmark.LEFT_EYE_INNER\n",
      "PoseLandmark.LEFT_EYE\n",
      "PoseLandmark.LEFT_EYE_OUTER\n",
      "PoseLandmark.RIGHT_EYE_INNER\n",
      "PoseLandmark.RIGHT_EYE\n",
      "PoseLandmark.RIGHT_EYE_OUTER\n",
      "PoseLandmark.LEFT_EAR\n",
      "PoseLandmark.RIGHT_EAR\n",
      "PoseLandmark.MOUTH_LEFT\n",
      "PoseLandmark.MOUTH_RIGHT\n",
      "PoseLandmark.LEFT_SHOULDER\n",
      "PoseLandmark.RIGHT_SHOULDER\n",
      "PoseLandmark.LEFT_ELBOW\n",
      "PoseLandmark.RIGHT_ELBOW\n",
      "PoseLandmark.LEFT_WRIST\n",
      "PoseLandmark.RIGHT_WRIST\n",
      "PoseLandmark.LEFT_PINKY\n",
      "PoseLandmark.RIGHT_PINKY\n",
      "PoseLandmark.LEFT_INDEX\n",
      "PoseLandmark.RIGHT_INDEX\n",
      "PoseLandmark.LEFT_THUMB\n",
      "PoseLandmark.RIGHT_THUMB\n",
      "PoseLandmark.LEFT_HIP\n",
      "PoseLandmark.RIGHT_HIP\n",
      "PoseLandmark.LEFT_KNEE\n",
      "PoseLandmark.RIGHT_KNEE\n",
      "PoseLandmark.LEFT_ANKLE\n",
      "PoseLandmark.RIGHT_ANKLE\n",
      "PoseLandmark.LEFT_HEEL\n",
      "PoseLandmark.RIGHT_HEEL\n",
      "PoseLandmark.LEFT_FOOT_INDEX\n",
      "PoseLandmark.RIGHT_FOOT_INDEX\n"
     ]
    }
   ],
   "source": [
    "for ld in mp_pose.PoseLandmark:\n",
    "        print(ld)"
   ]
  },
  {
   "cell_type": "code",
   "execution_count": 21,
   "id": "85c58c99",
   "metadata": {},
   "outputs": [
    {
     "data": {
      "text/plain": [
       "x: 0.8083884119987488\n",
       "y: 0.7162421941757202\n",
       "z: -0.9570280909538269\n",
       "visibility: 0.9938521981239319"
      ]
     },
     "execution_count": 21,
     "metadata": {},
     "output_type": "execute_result"
    }
   ],
   "source": [
    "landmarks[mp_pose.PoseLandmark.LEFT_SHOULDER.value]\n",
    "#note, mp_pose.PoseLandmark.LEFT_SHOULDER.value gives the index of the landmark (in this case 11, out of 32)"
   ]
  },
  {
   "cell_type": "code",
   "execution_count": null,
   "id": "a1a8454b",
   "metadata": {},
   "outputs": [],
   "source": []
  }
 ],
 "metadata": {
  "kernelspec": {
   "display_name": "Python 3",
   "language": "python",
   "name": "python3"
  },
  "language_info": {
   "codemirror_mode": {
    "name": "ipython",
    "version": 3
   },
   "file_extension": ".py",
   "mimetype": "text/x-python",
   "name": "python",
   "nbconvert_exporter": "python",
   "pygments_lexer": "ipython3",
   "version": "3.8.8"
  }
 },
 "nbformat": 4,
 "nbformat_minor": 5
}
